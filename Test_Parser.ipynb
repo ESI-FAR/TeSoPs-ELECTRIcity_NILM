{
 "cells": [
  {
   "cell_type": "code",
   "execution_count": 1,
   "id": "63b75614-9963-4fae-b1a8-2137309fa213",
   "metadata": {},
   "outputs": [],
   "source": [
    "import torch\n",
    "import pandas as pd\n",
    "import plotly.express as px\n",
    "import plotly.io as pio\n",
    "\n",
    "from types import SimpleNamespace\n",
    "\n",
    "from PChainger_Parser import PChainger_Parser\n",
    "from Electricity_model import ELECTRICITY\n",
    "from NILM_Dataset import NILMDataset\n",
    "\n",
    "torch.set_default_tensor_type(torch.DoubleTensor)\n",
    "pio.renderers.default = 'iframe' # or 'colab' or 'iframe' or 'iframe_connected' or 'sphinx_gallery'"
   ]
  },
  {
   "cell_type": "code",
   "execution_count": 2,
   "id": "b081d052-8461-4ff8-bde1-edcedcbb92ac",
   "metadata": {},
   "outputs": [],
   "source": [
    "data_file = \"./data/test/geert/main.csv\"\n",
    "model_file = \"./results_UK-DALE_TitanV_kettle/uk_dale/kettle/best_acc_model.pth\"\n",
    "\n",
    "device = \"cpu\""
   ]
  },
  {
   "cell_type": "code",
   "execution_count": 3,
   "id": "13091c32-0949-465c-a1fb-b0eb817a835a",
   "metadata": {},
   "outputs": [],
   "source": [
    "args = SimpleNamespace(\n",
    "    drop_out=0.1,\n",
    "    heads=2,\n",
    "    hidden=256,\n",
    "    n_layers=2,\n",
    "    output_size=1,\n",
    "    pretrain=False,\n",
    "    window_size=480,\n",
    ")"
   ]
  },
  {
   "cell_type": "code",
   "execution_count": 5,
   "id": "689d1174-9479-49a6-910c-cbb4c627af0d",
   "metadata": {},
   "outputs": [],
   "source": [
    "# `drop_last = True` will drop the last part of the data that\n",
    "# does not fit in the window_size anymore!\n",
    "\n",
    "ds_parser = PChainger_Parser(\n",
    "    sampling=\"6s\",\n",
    "    normalize=\"mean\",\n",
    "    cutoff=[3100],\n",
    "    drop_last=True,\n",
    "    #threshold=[2000],\n",
    "    location=data_file,\n",
    "    #min_on=[2],\n",
    "    #min_off=[0],\n",
    "    val_size=1,\n",
    "    separator=\",\",\n",
    "    window_size=480,\n",
    "    window_stride=240\n",
    ")"
   ]
  },
  {
   "cell_type": "code",
   "execution_count": 6,
   "id": "bdc7ef8b-67c1-4ab0-8a3d-b6239bf309a2",
   "metadata": {},
   "outputs": [
    {
     "data": {
      "text/plain": [
       "<All keys matched successfully>"
      ]
     },
     "execution_count": 6,
     "metadata": {},
     "output_type": "execute_result"
    }
   ],
   "source": [
    "model = ELECTRICITY(args)\n",
    "model.load_state_dict(torch.load(model_file, map_location=torch.device(device)))"
   ]
  },
  {
   "cell_type": "code",
   "execution_count": 7,
   "id": "6056807d-30d5-4595-8d50-503766e41b18",
   "metadata": {},
   "outputs": [],
   "source": [
    "inference_data = NILMDataset(\n",
    "    x=ds_parser.x,\n",
    "    y=[0] * len(ds_parser.x),\n",
    "    status=[0] * len(ds_parser.x),\n",
    "    window_size=480,\n",
    "    stride=480\n",
    ")"
   ]
  },
  {
   "cell_type": "code",
   "execution_count": 8,
   "id": "388e47c5-c09e-4754-aeb2-eeded481a912",
   "metadata": {},
   "outputs": [],
   "source": [
    "inference_dataloader = torch.utils.data.DataLoader(\n",
    "    dataset=inference_data,\n",
    "    batch_size=480,\n",
    ")"
   ]
  },
  {
   "cell_type": "code",
   "execution_count": 9,
   "id": "30cb3d79-1f41-4fda-a947-848ab00e8444",
   "metadata": {},
   "outputs": [],
   "source": [
    "out = model.eval()"
   ]
  },
  {
   "cell_type": "code",
   "execution_count": 10,
   "id": "0b96b655-3c34-4811-9d2d-101cf30259e4",
   "metadata": {},
   "outputs": [],
   "source": [
    "batches = []\n",
    "for batch in inference_dataloader:\n",
    "    batches.append(model(batch[0].to(\"cpu\")))\n",
    "\n",
    "data = []\n",
    "for batch in batches:\n",
    "    for chunk in batch[0]:\n",
    "        data += list(chunk[0].tolist())"
   ]
  },
  {
   "cell_type": "code",
   "execution_count": 11,
   "id": "31f5e306-a08a-4d54-911c-217ebfca1586",
   "metadata": {},
   "outputs": [
    {
     "data": {
      "text/html": [
       "<div>\n",
       "<style scoped>\n",
       "    .dataframe tbody tr th:only-of-type {\n",
       "        vertical-align: middle;\n",
       "    }\n",
       "\n",
       "    .dataframe tbody tr th {\n",
       "        vertical-align: top;\n",
       "    }\n",
       "\n",
       "    .dataframe thead th {\n",
       "        text-align: right;\n",
       "    }\n",
       "</style>\n",
       "<table border=\"1\" class=\"dataframe\">\n",
       "  <thead>\n",
       "    <tr style=\"text-align: right;\">\n",
       "      <th></th>\n",
       "      <th>inference</th>\n",
       "    </tr>\n",
       "    <tr>\n",
       "      <th>time</th>\n",
       "      <th></th>\n",
       "    </tr>\n",
       "  </thead>\n",
       "  <tbody>\n",
       "    <tr>\n",
       "      <th>2023-04-23 10:03:24</th>\n",
       "      <td>0.010961</td>\n",
       "    </tr>\n",
       "    <tr>\n",
       "      <th>2023-04-23 10:03:30</th>\n",
       "      <td>0.005562</td>\n",
       "    </tr>\n",
       "    <tr>\n",
       "      <th>2023-04-23 10:03:36</th>\n",
       "      <td>0.009228</td>\n",
       "    </tr>\n",
       "    <tr>\n",
       "      <th>2023-04-23 10:03:42</th>\n",
       "      <td>0.005534</td>\n",
       "    </tr>\n",
       "    <tr>\n",
       "      <th>2023-04-23 10:03:48</th>\n",
       "      <td>0.009228</td>\n",
       "    </tr>\n",
       "    <tr>\n",
       "      <th>...</th>\n",
       "      <td>...</td>\n",
       "    </tr>\n",
       "    <tr>\n",
       "      <th>2023-05-02 13:14:54</th>\n",
       "      <td>0.005263</td>\n",
       "    </tr>\n",
       "    <tr>\n",
       "      <th>2023-05-02 13:15:00</th>\n",
       "      <td>0.009099</td>\n",
       "    </tr>\n",
       "    <tr>\n",
       "      <th>2023-05-02 13:15:06</th>\n",
       "      <td>0.005245</td>\n",
       "    </tr>\n",
       "    <tr>\n",
       "      <th>2023-05-02 13:15:12</th>\n",
       "      <td>0.009093</td>\n",
       "    </tr>\n",
       "    <tr>\n",
       "      <th>2023-05-02 13:15:18</th>\n",
       "      <td>0.008577</td>\n",
       "    </tr>\n",
       "  </tbody>\n",
       "</table>\n",
       "<p>131520 rows × 1 columns</p>\n",
       "</div>"
      ],
      "text/plain": [
       "                     inference\n",
       "time                          \n",
       "2023-04-23 10:03:24   0.010961\n",
       "2023-04-23 10:03:30   0.005562\n",
       "2023-04-23 10:03:36   0.009228\n",
       "2023-04-23 10:03:42   0.005534\n",
       "2023-04-23 10:03:48   0.009228\n",
       "...                        ...\n",
       "2023-05-02 13:14:54   0.005263\n",
       "2023-05-02 13:15:00   0.009099\n",
       "2023-05-02 13:15:06   0.005245\n",
       "2023-05-02 13:15:12   0.009093\n",
       "2023-05-02 13:15:18   0.008577\n",
       "\n",
       "[131520 rows x 1 columns]"
      ]
     },
     "execution_count": 11,
     "metadata": {},
     "output_type": "execute_result"
    }
   ],
   "source": [
    "df = pd.DataFrame(data, index=ds_parser.index, columns=[\"inference\"])\n",
    "df"
   ]
  },
  {
   "cell_type": "code",
   "execution_count": 12,
   "id": "c7644ec4-4092-4213-842e-4f8124003961",
   "metadata": {},
   "outputs": [
    {
     "data": {
      "text/html": [
       "<iframe\n",
       "    scrolling=\"no\"\n",
       "    width=\"100%\"\n",
       "    height=\"545px\"\n",
       "    src=\"iframe_figures/figure_12.html\"\n",
       "    frameborder=\"0\"\n",
       "    allowfullscreen\n",
       "></iframe>\n"
      ]
     },
     "metadata": {},
     "output_type": "display_data"
    }
   ],
   "source": [
    "df_inf = pd.DataFrame(dict(\n",
    "    index = ds_parser.index,\n",
    "    inferred = data\n",
    "))\n",
    "\n",
    "fig = px.line(df_inf, x=\"index\", y=\"inferred\", line_shape=\"linear\", render_mode=\"svg\")\n",
    "fig.show()"
   ]
  },
  {
   "cell_type": "code",
   "execution_count": 13,
   "id": "983bc0b1-d059-4215-92b0-1a822a90468f",
   "metadata": {},
   "outputs": [],
   "source": [
    "kettle = pd.read_csv(\"./data/test/geert/kettle.csv\", sep=',', header=None, names=[\"time\", \"aggregate\"])\n",
    "kettle[\"time\"] = pd.to_datetime(kettle[\"time\"])\n",
    "kettle = kettle.set_index(\"time\")"
   ]
  },
  {
   "cell_type": "code",
   "execution_count": 14,
   "id": "3d9cda1b-eb1a-4429-bf9e-925ab1e5e76d",
   "metadata": {},
   "outputs": [
    {
     "data": {
      "text/plain": [
       "DatetimeIndex(['2023-04-23 10:03:26', '2023-04-23 10:03:27',\n",
       "               '2023-04-23 10:03:28', '2023-04-23 10:03:29',\n",
       "               '2023-04-23 10:03:30', '2023-04-23 10:03:31',\n",
       "               '2023-04-23 10:03:33', '2023-04-23 10:03:34',\n",
       "               '2023-04-23 10:03:35', '2023-04-23 10:03:36',\n",
       "               ...\n",
       "               '2023-05-02 13:15:07', '2023-05-02 13:15:08',\n",
       "               '2023-05-02 13:15:09', '2023-05-02 13:15:11',\n",
       "               '2023-05-02 13:15:12', '2023-05-02 13:15:13',\n",
       "               '2023-05-02 13:15:14', '2023-05-02 13:15:15',\n",
       "               '2023-05-02 13:15:17', '2023-05-02 13:15:18'],\n",
       "              dtype='datetime64[ns]', name='time', length=354717, freq=None)"
      ]
     },
     "execution_count": 14,
     "metadata": {},
     "output_type": "execute_result"
    }
   ],
   "source": [
    "kettle[ds_parser.index[0]:ds_parser.index[-1]].index"
   ]
  },
  {
   "cell_type": "code",
   "execution_count": 15,
   "id": "9b73b079-1ac5-48c3-9da9-ac7ea68a324a",
   "metadata": {},
   "outputs": [
    {
     "data": {
      "text/html": [
       "<iframe\n",
       "    scrolling=\"no\"\n",
       "    width=\"100%\"\n",
       "    height=\"545px\"\n",
       "    src=\"iframe_figures/figure_15.html\"\n",
       "    frameborder=\"0\"\n",
       "    allowfullscreen\n",
       "></iframe>\n"
      ]
     },
     "metadata": {},
     "output_type": "display_data"
    }
   ],
   "source": [
    "df_kettle = pd.DataFrame(dict(\n",
    "    index = kettle[ds_parser.index[0]:ds_parser.index[-1]].index,\n",
    "    data = kettle[ds_parser.index[0]:ds_parser.index[-1]][\"aggregate\"],\n",
    "))\n",
    "\n",
    "fig = px.line(df_kettle, x=\"index\", y=\"data\", line_shape=\"linear\", render_mode=\"svg\")\n",
    "fig.show()"
   ]
  },
  {
   "cell_type": "code",
   "execution_count": 16,
   "id": "0fc7c99b-9f67-4613-adcf-b268d9dcf066",
   "metadata": {},
   "outputs": [],
   "source": [
    "main = pd.read_csv(data_file, sep=',', header=None, names=[\"time\", \"aggregate\"])\n",
    "main[\"time\"] = pd.to_datetime(main[\"time\"])\n",
    "main = main.set_index(\"time\")"
   ]
  },
  {
   "cell_type": "code",
   "execution_count": 17,
   "id": "da4a86e4-f010-4e2a-a19e-74b9b6539a74",
   "metadata": {},
   "outputs": [
    {
     "data": {
      "text/html": [
       "<iframe\n",
       "    scrolling=\"no\"\n",
       "    width=\"100%\"\n",
       "    height=\"545px\"\n",
       "    src=\"iframe_figures/figure_17.html\"\n",
       "    frameborder=\"0\"\n",
       "    allowfullscreen\n",
       "></iframe>\n"
      ]
     },
     "metadata": {},
     "output_type": "display_data"
    }
   ],
   "source": [
    "df_main = pd.DataFrame(dict(\n",
    "    index = main[ds_parser.index[0]:ds_parser.index[-1]].index,\n",
    "    data = main[ds_parser.index[0]:ds_parser.index[-1]][\"aggregate\"],\n",
    "))\n",
    "\n",
    "fig = px.line(df_main, x=\"index\", y=\"data\", line_shape=\"linear\", render_mode=\"svg\")\n",
    "fig.show()"
   ]
  },
  {
   "cell_type": "code",
   "execution_count": null,
   "id": "73650e8b-ac3c-48d8-a48e-99d4211c3611",
   "metadata": {},
   "outputs": [],
   "source": []
  }
 ],
 "metadata": {
  "kernelspec": {
   "display_name": "Python 3 (ipykernel)",
   "language": "python",
   "name": "python3"
  },
  "language_info": {
   "codemirror_mode": {
    "name": "ipython",
    "version": 3
   },
   "file_extension": ".py",
   "mimetype": "text/x-python",
   "name": "python",
   "nbconvert_exporter": "python",
   "pygments_lexer": "ipython3",
   "version": "3.11.4"
  }
 },
 "nbformat": 4,
 "nbformat_minor": 5
}
