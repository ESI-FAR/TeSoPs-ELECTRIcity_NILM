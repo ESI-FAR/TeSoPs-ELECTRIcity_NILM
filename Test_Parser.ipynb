{
 "cells": [
  {
   "cell_type": "code",
   "execution_count": 1,
   "id": "63b75614-9963-4fae-b1a8-2137309fa213",
   "metadata": {},
   "outputs": [],
   "source": [
    "import torch\n",
    "torch.set_default_tensor_type(torch.DoubleTensor)\n",
    "\n",
    "import argparse\n",
    "from   config            import *\n",
    "from   UKDALE_Parser     import *\n",
    "from   REDD_Parser       import *\n",
    "from   Refit_Parser      import *\n",
    "from PChainger_Parser import PChainger_Parser\n",
    "from   Electricity_model import *\n",
    "from   NILM_Dataloader   import *\n",
    "from   Trainer           import *\n",
    "from   time              import time\n",
    "import pickle            as pkl\n",
    "from pathlib import Path\n",
    "import plotly.express as px\n",
    "import plotly.io as pio\n",
    "\n",
    "pio.renderers.default = 'iframe' # or 'colab' or 'iframe' or 'iframe_connected' or 'sphinx_gallery'"
   ]
  },
  {
   "cell_type": "code",
   "execution_count": 2,
   "id": "0b75b40f-b77b-49c6-ba99-0f46962821a8",
   "metadata": {},
   "outputs": [],
   "source": [
    "with open(\"./results_UK-DALE_TitanV_kettle/uk_dale/kettle/results.pkl\", \"rb\") as f:\n",
    "    res = pkl.load(f)\n",
    "\n",
    "args = res[\"args\"]"
   ]
  },
  {
   "cell_type": "code",
   "execution_count": 3,
   "id": "35489a2d-7db4-4cd2-b7ed-c80b16065e68",
   "metadata": {},
   "outputs": [],
   "source": [
    "# override computing device\n",
    "args.device = \"cpu\"\n",
    "args.pretrain_num_epochs = 0\n",
    "args.num_epochs = 0\n",
    "args.validation_size = 1\n",
    "args.hidden = 256"
   ]
  },
  {
   "cell_type": "code",
   "execution_count": 4,
   "id": "689d1174-9479-49a6-910c-cbb4c627af0d",
   "metadata": {},
   "outputs": [],
   "source": [
    "data_file = \"./data/test/geert/main.csv\"\n",
    "\n",
    "ds_parser = PChainger_Parser(\n",
    "    sampling=\"6s\",\n",
    "    normalize=\"mean\",\n",
    "    cutoff=[3100],\n",
    "    threshold=[2000],\n",
    "    location=data_file,\n",
    "    min_on=[2],\n",
    "    min_off=[0],\n",
    "    val_size=1,\n",
    "    window_size=480,\n",
    "    window_stride=240\n",
    ")"
   ]
  },
  {
   "cell_type": "code",
   "execution_count": 5,
   "id": "bdc7ef8b-67c1-4ab0-8a3d-b6239bf309a2",
   "metadata": {},
   "outputs": [],
   "source": [
    "model = ELECTRICITY(args)\n",
    "args.pretrain = False  # remove?\n",
    "model.pretrain = False  # remove?\n",
    "model.load_state_dict(torch.load(\"./results_UK-DALE_TitanV_kettle/uk_dale/kettle/best_acc_model.pth\", map_location=torch.device('cpu')))\n",
    "trainer = Trainer(args,ds_parser,model)"
   ]
  },
  {
   "cell_type": "code",
   "execution_count": 47,
   "id": "6056807d-30d5-4595-8d50-503766e41b18",
   "metadata": {},
   "outputs": [],
   "source": [
    "inf_data_start = 0\n",
    "inf_data_end = 480\n",
    "inference_data = NILMDataset(\n",
    "    #x=ds_uk_parser.x[-100000:],\n",
    "    x=ds_parser.x,#[-100000:],\n",
    "    #y=ds_uk_parser.y[-100000:],\n",
    "    y=[0] * len(ds_parser.x),#100000,\n",
    "    #status=ds_uk_parser.status[-100000:],\n",
    "    status=[0] * len(ds_parser.x),#100000,\n",
    "    window_size=480,\n",
    "    stride=480\n",
    ")"
   ]
  },
  {
   "cell_type": "code",
   "execution_count": 48,
   "id": "388e47c5-c09e-4754-aeb2-eeded481a912",
   "metadata": {},
   "outputs": [],
   "source": [
    "inference_dataloader = torch.utils.data.DataLoader(\n",
    "    dataset=inference_data,\n",
    "    batch_size=inf_data_end-inf_data_start,\n",
    ")"
   ]
  },
  {
   "cell_type": "code",
   "execution_count": 49,
   "id": "30cb3d79-1f41-4fda-a947-848ab00e8444",
   "metadata": {},
   "outputs": [],
   "source": [
    "out = model.eval()"
   ]
  },
  {
   "cell_type": "code",
   "execution_count": 50,
   "id": "0b96b655-3c34-4811-9d2d-101cf30259e4",
   "metadata": {},
   "outputs": [],
   "source": [
    "batches = []\n",
    "for batch in inference_dataloader:\n",
    "    batches.append(model(batch[0].to(\"cpu\")))\n",
    "\n",
    "data = []\n",
    "for batch in batches:\n",
    "    for chunk in batch[0]:\n",
    "        data += list(chunk[0].tolist())"
   ]
  },
  {
   "cell_type": "code",
   "execution_count": 52,
   "id": "7813cad1-9684-4722-9c33-5ab64107aa80",
   "metadata": {},
   "outputs": [
    {
     "name": "stdout",
     "output_type": "stream",
     "text": [
      "132000\n",
      "131976\n",
      "131976\n"
     ]
    }
   ],
   "source": [
    "print(len(data))\n",
    "print(len(ds_parser.index))\n",
    "print(len(ds_parser.x))"
   ]
  },
  {
   "cell_type": "code",
   "execution_count": 55,
   "id": "c7644ec4-4092-4213-842e-4f8124003961",
   "metadata": {},
   "outputs": [
    {
     "data": {
      "text/html": [
       "<iframe\n",
       "    scrolling=\"no\"\n",
       "    width=\"100%\"\n",
       "    height=\"545px\"\n",
       "    src=\"iframe_figures/figure_55.html\"\n",
       "    frameborder=\"0\"\n",
       "    allowfullscreen\n",
       "></iframe>\n"
      ]
     },
     "metadata": {},
     "output_type": "display_data"
    }
   ],
   "source": [
    "df_inf = pd.DataFrame(dict(\n",
    "    #index = range(len(data)),\n",
    "    #inf = data\n",
    "    index = range(len(data)),#,(100000),\n",
    "    inf = data#,[-100000:]\n",
    "))\n",
    "\n",
    "fig = px.line(df_inf, x=\"index\", y=\"inf\", line_shape=\"linear\", render_mode=\"svg\")\n",
    "fig.show()"
   ]
  },
  {
   "cell_type": "code",
   "execution_count": 59,
   "id": "983bc0b1-d059-4215-92b0-1a822a90468f",
   "metadata": {},
   "outputs": [],
   "source": [
    "kettle = pd.read_csv(\"./data/test/geert/kettle.csv\", sep=',', header=None, names=[\"time\", \"aggregate\"])\n",
    "kettle[\"time\"] = pd.to_datetime(kettle[\"time\"])\n",
    "kettle = kettle.set_index(\"time\")"
   ]
  },
  {
   "cell_type": "code",
   "execution_count": 60,
   "id": "9b73b079-1ac5-48c3-9da9-ac7ea68a324a",
   "metadata": {},
   "outputs": [
    {
     "data": {
      "text/html": [
       "<iframe\n",
       "    scrolling=\"no\"\n",
       "    width=\"100%\"\n",
       "    height=\"545px\"\n",
       "    src=\"iframe_figures/figure_60.html\"\n",
       "    frameborder=\"0\"\n",
       "    allowfullscreen\n",
       "></iframe>\n"
      ]
     },
     "metadata": {},
     "output_type": "display_data"
    }
   ],
   "source": [
    "df_kettle = pd.DataFrame(dict(\n",
    "    index = kettle.index,#[-100000:],\n",
    "    data = kettle[\"aggregate\"],#[-100000:]\n",
    "))\n",
    "\n",
    "fig = px.line(df_kettle, x=\"index\", y=\"data\", line_shape=\"linear\", render_mode=\"svg\")\n",
    "fig.show()"
   ]
  },
  {
   "cell_type": "code",
   "execution_count": 61,
   "id": "0fc7c99b-9f67-4613-adcf-b268d9dcf066",
   "metadata": {},
   "outputs": [],
   "source": [
    "main = pd.read_csv(\"./data/test/geert/main.csv\", sep=',', header=None, names=[\"time\", \"aggregate\"])\n",
    "main[\"time\"] = pd.to_datetime(main[\"time\"])\n",
    "main = main.set_index(\"time\")"
   ]
  },
  {
   "cell_type": "code",
   "execution_count": 62,
   "id": "da4a86e4-f010-4e2a-a19e-74b9b6539a74",
   "metadata": {},
   "outputs": [
    {
     "data": {
      "text/html": [
       "<iframe\n",
       "    scrolling=\"no\"\n",
       "    width=\"100%\"\n",
       "    height=\"545px\"\n",
       "    src=\"iframe_figures/figure_62.html\"\n",
       "    frameborder=\"0\"\n",
       "    allowfullscreen\n",
       "></iframe>\n"
      ]
     },
     "metadata": {},
     "output_type": "display_data"
    }
   ],
   "source": [
    "df_main = pd.DataFrame(dict(\n",
    "    index = main.index,#[-100000:],\n",
    "    data = main[\"aggregate\"],#[-100000:]\n",
    "))\n",
    "\n",
    "fig = px.line(df_main, x=\"index\", y=\"data\", line_shape=\"linear\", render_mode=\"svg\")\n",
    "fig.show()"
   ]
  },
  {
   "cell_type": "code",
   "execution_count": null,
   "id": "73650e8b-ac3c-48d8-a48e-99d4211c3611",
   "metadata": {},
   "outputs": [],
   "source": []
  }
 ],
 "metadata": {
  "kernelspec": {
   "display_name": "Python 3 (ipykernel)",
   "language": "python",
   "name": "python3"
  },
  "language_info": {
   "codemirror_mode": {
    "name": "ipython",
    "version": 3
   },
   "file_extension": ".py",
   "mimetype": "text/x-python",
   "name": "python",
   "nbconvert_exporter": "python",
   "pygments_lexer": "ipython3",
   "version": "3.11.4"
  }
 },
 "nbformat": 4,
 "nbformat_minor": 5
}
