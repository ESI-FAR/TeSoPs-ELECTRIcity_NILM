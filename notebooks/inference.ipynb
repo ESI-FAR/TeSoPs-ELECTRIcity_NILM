{
 "cells": [
  {
   "cell_type": "code",
   "execution_count": 1,
   "id": "7254d456-4567-4ec6-bc8b-1b3eadc93ccb",
   "metadata": {},
   "outputs": [],
   "source": [
    "import torch\n",
    "torch.set_default_tensor_type(torch.DoubleTensor)\n",
    "\n",
    "from   config            import setup_seed\n",
    "from   UKDALE_Parser     import UK_Dale_Parser\n",
    "from   Electricity_model import ELECTRICITY\n",
    "from NILM_Dataloader import NILMDataloader\n",
    "from NILM_Dataset import NILMDataset\n",
    "from   Trainer           import Trainer\n",
    "import pickle            as pkl\n",
    "import plotly.express as px\n",
    "import plotly.io as pio\n",
    "import pandas as pd\n",
    "from pyprojroot import here\n",
    "\n",
    "pio.renderers.default = 'iframe' # or 'colab' or 'iframe' or 'iframe_connected' or 'sphinx_gallery'"
   ]
  },
  {
   "cell_type": "code",
   "execution_count": 2,
   "id": "1532fb15-6cc6-48f1-abec-3a41bcbcb053",
   "metadata": {},
   "outputs": [],
   "source": [
    "with open(here(\"results_UK-DALE_TitanV_kettle/uk_dale/kettle/results.pkl\"), \"rb\") as f:\n",
    "    res = pkl.load(f)\n",
    "\n",
    "args = res[\"args\"]"
   ]
  },
  {
   "cell_type": "code",
   "execution_count": 3,
   "id": "b68aafec-dccd-4be7-b34d-aa34810b363b",
   "metadata": {},
   "outputs": [],
   "source": [
    "# override computing device\n",
    "args.device = \"cpu\"\n",
    "args.pretrain_num_epochs = 0\n",
    "args.num_epochs = 0\n",
    "args.validation_size = 1\n",
    "args.hidden = 256"
   ]
  },
  {
   "cell_type": "code",
   "execution_count": 4,
   "id": "f25e309b-d9be-49e2-935c-5755da2ea32c",
   "metadata": {},
   "outputs": [],
   "source": [
    "setup_seed(args.seed)"
   ]
  },
  {
   "cell_type": "code",
   "execution_count": 5,
   "id": "82f5e800-3208-4091-a326-a547f48fe18b",
   "metadata": {},
   "outputs": [],
   "source": [
    "args.house_indices = [2]\n",
    "args.validation_size = .1\n",
    "ds_parser = UK_Dale_Parser(args)"
   ]
  },
  {
   "cell_type": "code",
   "execution_count": 6,
   "id": "88930b00-0938-418e-98df-b1d3959bbf8c",
   "metadata": {},
   "outputs": [],
   "source": [
    "model = ELECTRICITY(args)\n",
    "trainer = Trainer(args,ds_parser,model)"
   ]
  },
  {
   "cell_type": "code",
   "execution_count": 7,
   "id": "87bc7e78-2ed6-41e5-8f97-171decb77416",
   "metadata": {},
   "outputs": [],
   "source": [
    "# Why is this necessary?\n",
    "model.pretrain = False"
   ]
  },
  {
   "cell_type": "code",
   "execution_count": 8,
   "id": "026523e2-f76d-41bf-b6f6-fc138de1833a",
   "metadata": {},
   "outputs": [
    {
     "name": "stderr",
     "output_type": "stream",
     "text": [
      "Test, rel_err 0.01, acc 0.99, f1 0.14: 100%|███████████████████████████| 7/7 [00:05<00:00,  1.17it/s]\n"
     ]
    }
   ],
   "source": [
    "dataloader = NILMDataloader(args, ds_parser)\n",
    "_, test_loader = dataloader.get_dataloaders()\n",
    "mre, mae, acc, prec, recall, f1 = trainer.test(test_loader, map_location='cpu')"
   ]
  },
  {
   "cell_type": "code",
   "execution_count": 9,
   "id": "2ee39800-a767-48cb-8b46-8955218c5aba",
   "metadata": {},
   "outputs": [
    {
     "name": "stdout",
     "output_type": "stream",
     "text": [
      "Mean Accuracy: [0.99487537]\n",
      "Mean F1-Score: [0.77862595]\n",
      "MAE: [0.00756694]\n",
      "MRE: [21.89523618]\n"
     ]
    }
   ],
   "source": [
    "print('Mean Accuracy:', acc)\n",
    "print('Mean F1-Score:', f1)\n",
    "print('MAE:', mae)\n",
    "print('MRE:', mre)"
   ]
  },
  {
   "cell_type": "code",
   "execution_count": 10,
   "id": "74c9a2a1-2a31-40a8-902c-05f46938780c",
   "metadata": {},
   "outputs": [],
   "source": [
    "inf_data_start = 0\n",
    "inf_data_end = 480\n",
    "inference_data = NILMDataset(\n",
    "    x=ds_parser.x[-100000:],\n",
    "    y=ds_parser.y[-100000:],\n",
    "    status=ds_parser.status[-100000:],\n",
    "    window_size=480,\n",
    "    stride=480\n",
    ")"
   ]
  },
  {
   "cell_type": "code",
   "execution_count": 11,
   "id": "395bcea8-fa49-45fc-9c43-a5851e88571e",
   "metadata": {},
   "outputs": [],
   "source": [
    "inference_dataloader = torch.utils.data.DataLoader(\n",
    "    dataset=inference_data,\n",
    "    batch_size=inf_data_end-inf_data_start,\n",
    ")"
   ]
  },
  {
   "cell_type": "code",
   "execution_count": 12,
   "id": "28cb1833-e6fb-4189-8e41-a17e11d3197c",
   "metadata": {},
   "outputs": [],
   "source": [
    "out = model.eval()"
   ]
  },
  {
   "cell_type": "code",
   "execution_count": 13,
   "id": "772d2032-78de-4a6c-b9f5-0aa21d0cd885",
   "metadata": {},
   "outputs": [
    {
     "name": "stdout",
     "output_type": "stream",
     "text": [
      "CPU times: user 11.9 s, sys: 11 s, total: 22.9 s\n",
      "Wall time: 3.06 s\n"
     ]
    }
   ],
   "source": [
    "%%time\n",
    "batches = []\n",
    "for batch in inference_dataloader:\n",
    "    batches.append(model(batch[0].to(\"cpu\")))"
   ]
  },
  {
   "cell_type": "code",
   "execution_count": 14,
   "id": "de59f2bf-0305-4b3c-a6fb-638856c7b4b8",
   "metadata": {},
   "outputs": [
    {
     "name": "stdout",
     "output_type": "stream",
     "text": [
      "CPU times: user 2.35 ms, sys: 296 µs, total: 2.65 ms\n",
      "Wall time: 8.66 ms\n"
     ]
    }
   ],
   "source": [
    "%%time\n",
    "data = []\n",
    "for batch in batches:\n",
    "    for chunk in batch[0]:\n",
    "        data += list(chunk[0].tolist())"
   ]
  },
  {
   "cell_type": "code",
   "execution_count": 15,
   "id": "46026178-3f7a-4f4d-9e3e-651c5391f135",
   "metadata": {},
   "outputs": [
    {
     "data": {
      "text/html": [
       "<iframe\n",
       "    scrolling=\"no\"\n",
       "    width=\"100%\"\n",
       "    height=\"545px\"\n",
       "    src=\"iframe_figures/figure_15.html\"\n",
       "    frameborder=\"0\"\n",
       "    allowfullscreen\n",
       "></iframe>\n"
      ]
     },
     "metadata": {},
     "output_type": "display_data"
    }
   ],
   "source": [
    "df_inf = pd.DataFrame(dict(\n",
    "    #index = range(len(data)),\n",
    "    #inf = data\n",
    "    index = range(10000),\n",
    "    inf = data[-10000:]\n",
    "))\n",
    "\n",
    "fig = px.line(df_inf, x=\"index\", y=\"inf\", line_shape=\"linear\", render_mode=\"svg\")\n",
    "fig.show()"
   ]
  },
  {
   "cell_type": "code",
   "execution_count": 16,
   "id": "4587d267-e5b5-428c-822c-1257a4e9b6e2",
   "metadata": {},
   "outputs": [],
   "source": [
    "with open(here(\"data/UK_Dale/house_2/channel_8.dat\")) as f:\n",
    "    ground_truth = pd.read_csv(f, names=[\"time\", \"data\"], sep=\" \")"
   ]
  },
  {
   "cell_type": "code",
   "execution_count": 17,
   "id": "d72d1819-3d7d-4f52-bb3d-3b65458b228b",
   "metadata": {},
   "outputs": [
    {
     "data": {
      "text/html": [
       "<iframe\n",
       "    scrolling=\"no\"\n",
       "    width=\"100%\"\n",
       "    height=\"545px\"\n",
       "    src=\"iframe_figures/figure_17.html\"\n",
       "    frameborder=\"0\"\n",
       "    allowfullscreen\n",
       "></iframe>\n"
      ]
     },
     "metadata": {},
     "output_type": "display_data"
    }
   ],
   "source": [
    "df_gt = pd.DataFrame(dict(\n",
    "    index = range(10000),\n",
    "    gt = ground_truth[\"data\"][-10000:]\n",
    "))\n",
    "\n",
    "fig = px.line(df_gt, x=\"index\", y=\"gt\", line_shape=\"linear\", render_mode=\"svg\")\n",
    "fig.show()"
   ]
  },
  {
   "cell_type": "code",
   "execution_count": 18,
   "id": "23696803-9ba9-42c4-845b-04655087c90d",
   "metadata": {},
   "outputs": [
    {
     "data": {
      "text/html": [
       "<iframe\n",
       "    scrolling=\"no\"\n",
       "    width=\"100%\"\n",
       "    height=\"545px\"\n",
       "    src=\"iframe_figures/figure_18.html\"\n",
       "    frameborder=\"0\"\n",
       "    allowfullscreen\n",
       "></iframe>\n"
      ]
     },
     "metadata": {},
     "output_type": "display_data"
    }
   ],
   "source": [
    "df_x = pd.DataFrame(dict(\n",
    "    index = range(10000),\n",
    "    x = ds_parser.x[-10000:]\n",
    "))\n",
    "\n",
    "fig = px.line(df_x, x=\"index\", y=\"x\", line_shape=\"linear\", render_mode=\"svg\")\n",
    "fig.show()"
   ]
  },
  {
   "cell_type": "code",
   "execution_count": 19,
   "id": "da50493f-a87b-44bd-be4f-396c02b4995b",
   "metadata": {},
   "outputs": [
    {
     "data": {
      "text/plain": [
       "array([-0.10393056, -0.10393056, -0.10393056, ..., -0.39086878,\n",
       "       -0.39086878, -0.38874331])"
      ]
     },
     "execution_count": 19,
     "metadata": {},
     "output_type": "execute_result"
    }
   ],
   "source": [
    "ds_parser.x"
   ]
  },
  {
   "cell_type": "code",
   "execution_count": 20,
   "id": "380dc326-2d24-4b46-b478-b5592d79cd86",
   "metadata": {},
   "outputs": [
    {
     "data": {
      "text/plain": [
       "array([0., 0., 0., ..., 0., 0., 0.])"
      ]
     },
     "execution_count": 20,
     "metadata": {},
     "output_type": "execute_result"
    }
   ],
   "source": [
    "ds_parser.y"
   ]
  },
  {
   "cell_type": "code",
   "execution_count": 21,
   "id": "b223eb6e-36b1-4079-9a0d-2d1fbd966a85",
   "metadata": {},
   "outputs": [
    {
     "data": {
      "text/html": [
       "<iframe\n",
       "    scrolling=\"no\"\n",
       "    width=\"100%\"\n",
       "    height=\"545px\"\n",
       "    src=\"iframe_figures/figure_21.html\"\n",
       "    frameborder=\"0\"\n",
       "    allowfullscreen\n",
       "></iframe>\n"
      ]
     },
     "metadata": {},
     "output_type": "display_data"
    }
   ],
   "source": [
    "px.line(df_x, x=range(len(ds_parser.x)), y=ds_parser.x, line_shape=\"linear\", render_mode=\"svg\")"
   ]
  },
  {
   "cell_type": "code",
   "execution_count": 22,
   "id": "3e186e83-59d5-41d1-839c-682003949469",
   "metadata": {},
   "outputs": [
    {
     "data": {
      "text/html": [
       "<iframe\n",
       "    scrolling=\"no\"\n",
       "    width=\"100%\"\n",
       "    height=\"545px\"\n",
       "    src=\"iframe_figures/figure_22.html\"\n",
       "    frameborder=\"0\"\n",
       "    allowfullscreen\n",
       "></iframe>\n"
      ]
     },
     "metadata": {},
     "output_type": "display_data"
    }
   ],
   "source": [
    "px.line(df_x, x=range(len(ds_parser.y)), y=ds_parser.y, line_shape=\"linear\", render_mode=\"svg\")"
   ]
  },
  {
   "cell_type": "code",
   "execution_count": null,
   "id": "5f7a3380-1e5d-4fb7-bd8f-065cf1e4fa89",
   "metadata": {},
   "outputs": [],
   "source": []
  }
 ],
 "metadata": {
  "kernelspec": {
   "display_name": "Python 3 (ipykernel)",
   "language": "python",
   "name": "python3"
  },
  "language_info": {
   "codemirror_mode": {
    "name": "ipython",
    "version": 3
   },
   "file_extension": ".py",
   "mimetype": "text/x-python",
   "name": "python",
   "nbconvert_exporter": "python",
   "pygments_lexer": "ipython3",
   "version": "3.11.4"
  }
 },
 "nbformat": 4,
 "nbformat_minor": 5
}
