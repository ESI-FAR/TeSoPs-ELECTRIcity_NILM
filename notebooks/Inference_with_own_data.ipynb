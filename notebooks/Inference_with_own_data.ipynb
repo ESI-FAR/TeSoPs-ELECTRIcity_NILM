{
 "cells": [
  {
   "cell_type": "markdown",
   "id": "ce43edcb-0f19-4297-8d47-f065a3a635cd",
   "metadata": {},
   "source": [
    "# Inference with Own Data\n",
    "- Take a pre-trained device-specific machine learning model and feed it with aggregated smart-meter data.\n",
    "- Inference happens in batches of 480 data points. If the aggregated data does not align with this window, the last excess data points can be dropped.\n",
    "- The model returns a DataFrame which is a guess which part of the aggregated data was caused by the device.\n",
    "- The inferred data is normalized to a range between [0, 1]."
   ]
  },
  {
   "cell_type": "code",
   "execution_count": 1,
   "id": "6f3c46bf-4019-414a-baab-b21c24a3dab6",
   "metadata": {},
   "outputs": [],
   "source": [
    "from pyprojroot import here\n",
    "\n",
    "from electricity.inference_with_own_data import inference"
   ]
  },
  {
   "cell_type": "code",
   "execution_count": 2,
   "id": "e4d564a6-613e-4011-924e-202665f6a416",
   "metadata": {},
   "outputs": [],
   "source": [
    "config = {\n",
    "    # Aggregated data\n",
    "    \"data_file\": here(\"data/test/geert/main.csv\"),\n",
    "\n",
    "    # Saved model from previous training\n",
    "    \"model_file\": here(\"results_UK-DALE_TitanV_kettle/uk_dale/kettle/best_acc_model.pth\"),\n",
    "\n",
    "    # Inference device\n",
    "    \"device\": \"cpu\",\n",
    "\n",
    "    # Re-sample data if necessary\n",
    "    \"sampling\": \"6s\",\n",
    "\n",
    "    # Keep aggregated data below this threshold\n",
    "    \"cutoff\": [2000],\n",
    "}"
   ]
  },
  {
   "cell_type": "code",
   "execution_count": 3,
   "id": "02e85647-d25b-4bb1-94ac-1401d37ee386",
   "metadata": {},
   "outputs": [
    {
     "name": "stdout",
     "output_type": "stream",
     "text": [
      "297.5686214145706\n",
      "102.7753549362568\n"
     ]
    }
   ],
   "source": [
    "inference_data = inference(config)"
   ]
  },
  {
   "cell_type": "markdown",
   "id": "49d4896c-0f48-46a5-a15f-33de95faaecd",
   "metadata": {},
   "source": [
    "## Visualize Raw and Infered Data"
   ]
  },
  {
   "cell_type": "code",
   "execution_count": 4,
   "id": "ed5772fc-9db7-4f44-9e5e-e2448b769d29",
   "metadata": {},
   "outputs": [],
   "source": [
    "import pandas as pd\n",
    "import plotly.express as px\n",
    "import plotly.io as pio\n",
    "\n",
    "pio.renderers.default = 'iframe' # or 'colab' or 'iframe' or 'iframe_connected' or 'sphinx_gallery'"
   ]
  },
  {
   "cell_type": "markdown",
   "id": "6d5d921e-75af-4ff6-9dcc-a68dc35d79af",
   "metadata": {},
   "source": [
    "### Infered Data"
   ]
  },
  {
   "cell_type": "code",
   "execution_count": 5,
   "id": "bf3e8d6e-2db4-4d4e-a927-f441dc9a55b4",
   "metadata": {},
   "outputs": [
    {
     "data": {
      "text/html": [
       "<iframe\n",
       "    scrolling=\"no\"\n",
       "    width=\"100%\"\n",
       "    height=\"545px\"\n",
       "    src=\"iframe_figures/figure_5.html\"\n",
       "    frameborder=\"0\"\n",
       "    allowfullscreen\n",
       "></iframe>\n"
      ]
     },
     "metadata": {},
     "output_type": "display_data"
    }
   ],
   "source": [
    "fig = px.line(inference_data, line_shape=\"linear\", render_mode=\"svg\")\n",
    "fig.show()"
   ]
  },
  {
   "cell_type": "markdown",
   "id": "08dd284c-2f73-429b-b543-a25864cecead",
   "metadata": {},
   "source": [
    "### Ground Truth"
   ]
  },
  {
   "cell_type": "code",
   "execution_count": 6,
   "id": "e2571f43-bb9b-4558-97fb-3c0e24471361",
   "metadata": {},
   "outputs": [
    {
     "data": {
      "text/html": [
       "<iframe\n",
       "    scrolling=\"no\"\n",
       "    width=\"100%\"\n",
       "    height=\"545px\"\n",
       "    src=\"iframe_figures/figure_6.html\"\n",
       "    frameborder=\"0\"\n",
       "    allowfullscreen\n",
       "></iframe>\n"
      ]
     },
     "metadata": {},
     "output_type": "display_data"
    }
   ],
   "source": [
    "kettle = pd.read_csv(\"./data/test/geert/kettle.csv\", sep=',', header=None, names=[\"time\", \"kettle\"])\n",
    "kettle[\"time\"] = pd.to_datetime(kettle[\"time\"])\n",
    "kettle = kettle.set_index(\"time\")\n",
    "\n",
    "fig = px.line(kettle, line_shape=\"linear\", render_mode=\"svg\")\n",
    "fig.show()"
   ]
  },
  {
   "cell_type": "markdown",
   "id": "69d63706-783a-445d-8a51-1cee12339284",
   "metadata": {},
   "source": [
    "### Aggregated Data for Reference"
   ]
  },
  {
   "cell_type": "code",
   "execution_count": 7,
   "id": "6dd8c28b-3f2c-4565-89f4-5928a323827e",
   "metadata": {},
   "outputs": [
    {
     "data": {
      "text/html": [
       "<iframe\n",
       "    scrolling=\"no\"\n",
       "    width=\"100%\"\n",
       "    height=\"545px\"\n",
       "    src=\"iframe_figures/figure_7.html\"\n",
       "    frameborder=\"0\"\n",
       "    allowfullscreen\n",
       "></iframe>\n"
      ]
     },
     "metadata": {},
     "output_type": "display_data"
    }
   ],
   "source": [
    "main = pd.read_csv(config[\"data_file\"], sep=',', header=None, names=[\"time\", \"aggregate\"])\n",
    "main[\"time\"] = pd.to_datetime(main[\"time\"])\n",
    "main = main.set_index(\"time\")\n",
    "\n",
    "fig = px.line(main, line_shape=\"linear\", render_mode=\"svg\")\n",
    "fig.show()"
   ]
  },
  {
   "cell_type": "code",
   "execution_count": 8,
   "id": "1471e146-54f6-40c8-82b7-0cc75b84836f",
   "metadata": {},
   "outputs": [
    {
     "name": "stdout",
     "output_type": "stream",
     "text": [
      "10.706187987160565\n",
      "\n",
      "kettle    141.631825\n",
      "dtype: float64\n"
     ]
    }
   ],
   "source": [
    "import numpy as np\n",
    "print(np.mean(kettle))\n",
    "print()\n",
    "print(np.std(kettle))"
   ]
  },
  {
   "cell_type": "code",
   "execution_count": null,
   "id": "82c51792-5b69-413c-8047-359dfe91a732",
   "metadata": {},
   "outputs": [],
   "source": []
  }
 ],
 "metadata": {
  "kernelspec": {
   "display_name": "Python 3 (ipykernel)",
   "language": "python",
   "name": "python3"
  },
  "language_info": {
   "codemirror_mode": {
    "name": "ipython",
    "version": 3
   },
   "file_extension": ".py",
   "mimetype": "text/x-python",
   "name": "python",
   "nbconvert_exporter": "python",
   "pygments_lexer": "ipython3",
   "version": "3.11.4"
  }
 },
 "nbformat": 4,
 "nbformat_minor": 5
}
