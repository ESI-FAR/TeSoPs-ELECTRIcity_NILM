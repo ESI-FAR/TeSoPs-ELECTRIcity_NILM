{
 "cells": [
  {
   "cell_type": "code",
   "execution_count": 1,
   "id": "f03e72d9-56e1-41a3-b944-38239f0ea672",
   "metadata": {},
   "outputs": [],
   "source": [
    "import torch\n",
    "torch.set_default_tensor_type(torch.DoubleTensor)\n",
    "\n",
    "import argparse\n",
    "from   config            import *\n",
    "from   UKDALE_Parser     import *\n",
    "from   REDD_Parser       import *\n",
    "from   Refit_Parser      import *\n",
    "from PChainger_Parser import PChainger_Parser\n",
    "from   Electricity_model import *\n",
    "from   NILM_Dataloader   import *\n",
    "from   Trainer           import *\n",
    "from   time              import time\n",
    "import pickle            as pkl\n",
    "from pathlib import Path\n",
    "import plotly.express as px\n",
    "import plotly.io as pio\n",
    "\n",
    "pio.renderers.default = 'iframe' # or 'colab' or 'iframe' or 'iframe_connected' or 'sphinx_gallery'"
   ]
  },
  {
   "cell_type": "code",
   "execution_count": 2,
   "id": "d62944e0-3e81-4b31-8529-2c54c04eeee0",
   "metadata": {},
   "outputs": [],
   "source": [
    "with open(\"./results_UK-DALE_TitanV_kettle/uk_dale/kettle/results.pkl\", \"rb\") as f:\n",
    "    res = pkl.load(f)\n",
    "\n",
    "args = res[\"args\"]"
   ]
  },
  {
   "cell_type": "code",
   "execution_count": 3,
   "id": "f77d0baf-9809-4167-a29d-af88b8259228",
   "metadata": {},
   "outputs": [],
   "source": [
    "# override computing device\n",
    "args.device = \"cpu\"\n",
    "args.pretrain_num_epochs = 0\n",
    "args.num_epochs = 0\n",
    "args.validation_size = 1\n",
    "args.hidden = 256"
   ]
  },
  {
   "cell_type": "code",
   "execution_count": 4,
   "id": "9aec052b-f27b-46e5-81f5-dfff0293a36a",
   "metadata": {},
   "outputs": [],
   "source": [
    "setup_seed(args.seed)"
   ]
  },
  {
   "cell_type": "code",
   "execution_count": 5,
   "id": "bcd933fd-64c5-4d71-94f4-dc9e83728710",
   "metadata": {},
   "outputs": [],
   "source": [
    "args.house_indices = [2]\n",
    "args.validation_size = .1\n",
    "\n",
    "ds_parser = PChainger_Parser(\n",
    "    sampling=args.sampling,\n",
    "    normalize=\"mean\",\n",
    "    cutoff=[3100],\n",
    "    #threshold=[2000],\n",
    "    location=\"./data/test/geert/main.csv\",\n",
    "    #min_on=[2],\n",
    "    #min_off=[0],\n",
    "    separator=\",\",\n",
    "    val_size=1,\n",
    "    window_size=480,\n",
    "    window_stride=240,\n",
    "    drop_last=True,\n",
    ")"
   ]
  },
  {
   "cell_type": "code",
   "execution_count": 6,
   "id": "62ac3712-e3cf-47ec-93ad-0035f0229043",
   "metadata": {},
   "outputs": [],
   "source": [
    "model = ELECTRICITY(args)\n",
    "args.pretrain = False  # remove?\n",
    "model.pretrain = False  # remove?\n",
    "model.load_state_dict(torch.load(\"./results_UK-DALE_TitanV_kettle/uk_dale/kettle/best_acc_model.pth\", map_location=torch.device('cpu')))\n",
    "trainer = Trainer(args,ds_parser,model)"
   ]
  },
  {
   "cell_type": "code",
   "execution_count": 7,
   "id": "d0b897ac-5bc8-439c-ab15-1267bdf77271",
   "metadata": {},
   "outputs": [],
   "source": [
    "ds_uk_parser = UK_Dale_Parser(args)\n",
    "\n",
    "#print(len(ds_uk_parser.x))\n",
    "#print(ds_uk_parser.x[:100])\n",
    "#print(type(ds_uk_parser.x))\n",
    "#print(min(ds_uk_parser.x))\n",
    "#print(max(ds_uk_parser.x))\n",
    "\n",
    "#print(len(ds_parser.x))\n",
    "#print(ds_parser.x[:100])\n",
    "#print(type(ds_parser.x))\n",
    "#print(min(ds_parser.x))\n",
    "#print(max(ds_parser.x))"
   ]
  },
  {
   "cell_type": "code",
   "execution_count": 8,
   "id": "b602f833-3d8f-4117-92e9-f345da93e6f6",
   "metadata": {},
   "outputs": [
    {
     "name": "stderr",
     "output_type": "stream",
     "text": [
      "Test, rel_err 0.01, acc 0.99, f1 0.14: 100%|██████████████████████████████████████████████████████████████████████████████████████████████████████████████████████████████████████████| 7/7 [00:21<00:00,  3.13s/it]\n"
     ]
    }
   ],
   "source": [
    "dataloader = NILMDataloader(args, ds_uk_parser)\n",
    "_, test_loader = dataloader.get_dataloaders()\n",
    "mre, mae, acc, prec, recall, f1 = trainer.test(test_loader, map_location='cpu')"
   ]
  },
  {
   "cell_type": "code",
   "execution_count": 9,
   "id": "30068995-c128-4b88-83ec-a76d795057bd",
   "metadata": {},
   "outputs": [
    {
     "name": "stdout",
     "output_type": "stream",
     "text": [
      "Mean Accuracy: [0.99487537]\n",
      "Mean F1-Score: [0.77862595]\n",
      "MAE: [0.00756694]\n",
      "MRE: [21.89523618]\n"
     ]
    }
   ],
   "source": [
    "print('Mean Accuracy:', acc)\n",
    "print('Mean F1-Score:', f1)\n",
    "print('MAE:', mae)\n",
    "print('MRE:', mre)"
   ]
  },
  {
   "cell_type": "markdown",
   "id": "c5de922c-2fbf-4b04-9d95-c782e33b8a30",
   "metadata": {},
   "source": [
    "## \"Own\" data"
   ]
  },
  {
   "cell_type": "code",
   "execution_count": 10,
   "id": "1dfc5e3a-e0c4-4fd7-b2b8-d520b070dbd1",
   "metadata": {},
   "outputs": [],
   "source": [
    "inf_data_start = 0\n",
    "inf_data_end = 480\n",
    "inference_data = NILMDataset(\n",
    "    #x=ds_uk_parser.x[-100000:],\n",
    "    x=ds_parser.x[-100000:],\n",
    "    #y=ds_uk_parser.y[-100000:],\n",
    "    y=[0] * 100000,\n",
    "    #status=ds_uk_parser.status[-100000:],\n",
    "    status=[0] * 100000,\n",
    "    window_size=480,\n",
    "    stride=480\n",
    ")"
   ]
  },
  {
   "cell_type": "code",
   "execution_count": 11,
   "id": "9bdda19f-04f3-4f3f-ad41-5e11c7d1acf8",
   "metadata": {},
   "outputs": [],
   "source": [
    "inference_dataloader = torch.utils.data.DataLoader(\n",
    "    dataset=inference_data,\n",
    "    batch_size=inf_data_end-inf_data_start,\n",
    ")"
   ]
  },
  {
   "cell_type": "code",
   "execution_count": 12,
   "id": "c05a2d6f-6c1e-4974-ab97-3932376ecf65",
   "metadata": {},
   "outputs": [],
   "source": [
    "out = model.eval()"
   ]
  },
  {
   "cell_type": "code",
   "execution_count": 13,
   "id": "dee52c6c-2563-47d9-9386-72d6328f649a",
   "metadata": {},
   "outputs": [],
   "source": [
    "batches = []\n",
    "for batch in inference_dataloader:\n",
    "    batches.append(model(batch[0].to(\"cpu\")))\n",
    "\n",
    "data = []\n",
    "for batch in batches:\n",
    "    for chunk in batch[0]:\n",
    "        data += list(chunk[0].tolist())"
   ]
  },
  {
   "cell_type": "code",
   "execution_count": 14,
   "id": "6f70b540-e874-4006-b436-ba8713f740e7",
   "metadata": {},
   "outputs": [
    {
     "data": {
      "text/html": [
       "<iframe\n",
       "    scrolling=\"no\"\n",
       "    width=\"100%\"\n",
       "    height=\"545px\"\n",
       "    src=\"iframe_figures/figure_14.html\"\n",
       "    frameborder=\"0\"\n",
       "    allowfullscreen\n",
       "></iframe>\n"
      ]
     },
     "metadata": {},
     "output_type": "display_data"
    }
   ],
   "source": [
    "df_inf = pd.DataFrame(dict(\n",
    "    #index = range(len(data)),\n",
    "    #inf = data\n",
    "    index = range(10000),\n",
    "    inf = data[-10000:]\n",
    "))\n",
    "\n",
    "fig = px.line(df_inf, x=\"index\", y=\"inf\", line_shape=\"linear\", render_mode=\"svg\")\n",
    "fig.show()"
   ]
  },
  {
   "cell_type": "markdown",
   "id": "4457eb71-130f-4170-9c74-387eeecf28fc",
   "metadata": {},
   "source": [
    "## \"Orig\" data"
   ]
  },
  {
   "cell_type": "code",
   "execution_count": 15,
   "id": "7b1007c5-ce96-4f76-a459-eafac1a6e3f1",
   "metadata": {},
   "outputs": [],
   "source": [
    "inf_data_start = 0\n",
    "inf_data_end = 480\n",
    "inference_data = NILMDataset(\n",
    "    x=ds_uk_parser.x[-100000:],\n",
    "    #x=ds_parser.x[-100000:],\n",
    "    #y=ds_uk_parser.y[-100000:],\n",
    "    y=[0] * 100000,\n",
    "    #status=ds_uk_parser.status[-100000:],\n",
    "    status=[0] * 100000,\n",
    "    window_size=480,\n",
    "    stride=480\n",
    ")"
   ]
  },
  {
   "cell_type": "code",
   "execution_count": 16,
   "id": "e5985f99-ad7f-4340-a364-6be1349eab50",
   "metadata": {},
   "outputs": [],
   "source": [
    "inference_dataloader = torch.utils.data.DataLoader(\n",
    "    dataset=inference_data,\n",
    "    batch_size=inf_data_end-inf_data_start,\n",
    ")"
   ]
  },
  {
   "cell_type": "code",
   "execution_count": 17,
   "id": "25230e6f-e674-48b9-897c-285ea091aabc",
   "metadata": {},
   "outputs": [],
   "source": [
    "out = model.eval()"
   ]
  },
  {
   "cell_type": "code",
   "execution_count": 18,
   "id": "0f2172cb-25df-4c81-a061-ff4a5b3673cb",
   "metadata": {},
   "outputs": [],
   "source": [
    "batches = []\n",
    "for batch in inference_dataloader:\n",
    "    batches.append(model(batch[0].to(\"cpu\")))\n",
    "\n",
    "data = []\n",
    "for batch in batches:\n",
    "    for chunk in batch[0]:\n",
    "        data += list(chunk[0].tolist())"
   ]
  },
  {
   "cell_type": "code",
   "execution_count": 19,
   "id": "2f64b6ab-fe08-43cf-88ad-04fa81a40e9e",
   "metadata": {},
   "outputs": [
    {
     "data": {
      "text/html": [
       "<iframe\n",
       "    scrolling=\"no\"\n",
       "    width=\"100%\"\n",
       "    height=\"545px\"\n",
       "    src=\"iframe_figures/figure_19.html\"\n",
       "    frameborder=\"0\"\n",
       "    allowfullscreen\n",
       "></iframe>\n"
      ]
     },
     "metadata": {},
     "output_type": "display_data"
    }
   ],
   "source": [
    "df_inf = pd.DataFrame(dict(\n",
    "    #index = range(len(data)),\n",
    "    #inf = data\n",
    "    index = range(10000),\n",
    "    inf = data[-10000:]\n",
    "))\n",
    "\n",
    "fig = px.line(df_inf, x=\"index\", y=\"inf\", line_shape=\"linear\", render_mode=\"svg\")\n",
    "fig.show()"
   ]
  },
  {
   "cell_type": "code",
   "execution_count": null,
   "id": "298ce8e2-8fbd-43ba-992d-992891df4da3",
   "metadata": {},
   "outputs": [],
   "source": []
  }
 ],
 "metadata": {
  "kernelspec": {
   "display_name": "Python 3 (ipykernel)",
   "language": "python",
   "name": "python3"
  },
  "language_info": {
   "codemirror_mode": {
    "name": "ipython",
    "version": 3
   },
   "file_extension": ".py",
   "mimetype": "text/x-python",
   "name": "python",
   "nbconvert_exporter": "python",
   "pygments_lexer": "ipython3",
   "version": "3.11.4"
  }
 },
 "nbformat": 4,
 "nbformat_minor": 5
}
